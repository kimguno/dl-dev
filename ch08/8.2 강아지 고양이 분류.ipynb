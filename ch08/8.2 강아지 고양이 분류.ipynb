{
 "cells": [
  {
   "cell_type": "code",
   "execution_count": 2,
   "metadata": {},
   "outputs": [],
   "source": [
    "# !pip install kaggle"
   ]
  },
  {
   "cell_type": "code",
   "execution_count": 8,
   "metadata": {},
   "outputs": [],
   "source": [
    "import os, shutil, pathlib\n",
    "\n",
    "original_dir = pathlib.Path(\"./src_data/train\")\n",
    "new_base_dir = pathlib.Path(\"cats_vs_dogs_small\")\n",
    "\n",
    "def make_subset(subset_name, start_index, end_index):\n",
    "    for category in (\"cat\", \"dog\"):\n",
    "        dir = new_base_dir / subset_name / category\n",
    "        os.makedirs(dir)\n",
    "        fnames = [f\"{category}.{i}.jpg\" for i in range(start_index, end_index)]\n",
    "        for fname in fnames:\n",
    "            shutil.copyfile(src=original_dir / fname,\n",
    "                            dst=dir / fname)\n",
    "\n",
    "make_subset(\"train\", start_index=0, end_index=1000)\n",
    "make_subset(\"validation\", start_index=1000, end_index=1500)\n",
    "make_subset(\"test\", start_index=1500, end_index=2500)"
   ]
  },
  {
   "cell_type": "code",
   "execution_count": 9,
   "metadata": {},
   "outputs": [],
   "source": [
    "from tensorflow import keras\n",
    "from tensorflow.keras import layers\n",
    "\n",
    "inputs = keras.Input(shape=(180, 180, 3))\n",
    "x = layers.Rescaling(1./255)(inputs) # 0 ~ 1 사이값으로 변환\n",
    "x = layers.Conv2D(filters=32, kernel_size=3, activation=\"relu\")(x)\n",
    "x = layers.MaxPooling2D(pool_size=2)(x)\n",
    "x = layers.Conv2D(filters=64, kernel_size=3, activation=\"relu\")(x)\n",
    "x = layers.MaxPooling2D(pool_size=2)(x)\n",
    "x = layers.Conv2D(filters=128, kernel_size=3, activation=\"relu\")(x)\n",
    "x = layers.MaxPooling2D(pool_size=2)(x)\n",
    "x = layers.Conv2D(filters=256, kernel_size=3, activation=\"relu\")(x)\n",
    "x = layers.MaxPooling2D(pool_size=2)(x)\n",
    "x = layers.Conv2D(filters=256, kernel_size=3, activation=\"relu\")(x)\n",
    "x = layers.Flatten()(x)\n",
    "outputs = layers.Dense(1, activation=\"sigmoid\")(x)\n",
    "model = keras.Model(inputs=inputs, outputs=outputs)"
   ]
  },
  {
   "cell_type": "code",
   "execution_count": 10,
   "metadata": {},
   "outputs": [
    {
     "name": "stdout",
     "output_type": "stream",
     "text": [
      "Model: \"model\"\n",
      "_________________________________________________________________\n",
      " Layer (type)                Output Shape              Param #   \n",
      "=================================================================\n",
      " input_1 (InputLayer)        [(None, 180, 180, 3)]     0         \n",
      "                                                                 \n",
      " rescaling (Rescaling)       (None, 180, 180, 3)       0         \n",
      "                                                                 \n",
      " conv2d (Conv2D)             (None, 178, 178, 32)      896       \n",
      "                                                                 \n",
      " max_pooling2d (MaxPooling2D  (None, 89, 89, 32)       0         \n",
      " )                                                               \n",
      "                                                                 \n",
      " conv2d_1 (Conv2D)           (None, 87, 87, 64)        18496     \n",
      "                                                                 \n",
      " max_pooling2d_1 (MaxPooling  (None, 43, 43, 64)       0         \n",
      " 2D)                                                             \n",
      "                                                                 \n",
      " conv2d_2 (Conv2D)           (None, 41, 41, 128)       73856     \n",
      "                                                                 \n",
      " max_pooling2d_2 (MaxPooling  (None, 20, 20, 128)      0         \n",
      " 2D)                                                             \n",
      "                                                                 \n",
      " conv2d_3 (Conv2D)           (None, 18, 18, 256)       295168    \n",
      "                                                                 \n",
      " max_pooling2d_3 (MaxPooling  (None, 9, 9, 256)        0         \n",
      " 2D)                                                             \n",
      "                                                                 \n",
      " conv2d_4 (Conv2D)           (None, 7, 7, 256)         590080    \n",
      "                                                                 \n",
      " flatten (Flatten)           (None, 12544)             0         \n",
      "                                                                 \n",
      " dense (Dense)               (None, 1)                 12545     \n",
      "                                                                 \n",
      "=================================================================\n",
      "Total params: 991,041\n",
      "Trainable params: 991,041\n",
      "Non-trainable params: 0\n",
      "_________________________________________________________________\n"
     ]
    }
   ],
   "source": [
    "model.summary()"
   ]
  },
  {
   "cell_type": "code",
   "execution_count": 11,
   "metadata": {},
   "outputs": [],
   "source": [
    "model.compile(loss=\"binary_crossentropy\", # 이진분류\n",
    "              optimizer=\"rmsprop\", # 학습\n",
    "              metrics=[\"accuracy\"]) # 평가"
   ]
  },
  {
   "cell_type": "code",
   "execution_count": 12,
   "metadata": {},
   "outputs": [
    {
     "name": "stdout",
     "output_type": "stream",
     "text": [
      "Found 2000 files belonging to 2 classes.\n",
      "Found 1000 files belonging to 2 classes.\n",
      "Found 2000 files belonging to 2 classes.\n"
     ]
    }
   ],
   "source": [
    "from tensorflow.keras.utils import image_dataset_from_directory\n",
    "\n",
    "train_dataset = image_dataset_from_directory(\n",
    "    new_base_dir / \"train\",\n",
    "    image_size=(180, 180),\n",
    "    batch_size=32)\n",
    "validation_dataset = image_dataset_from_directory(\n",
    "    new_base_dir / \"validation\",\n",
    "    image_size=(180, 180),\n",
    "    batch_size=32)\n",
    "test_dataset = image_dataset_from_directory(\n",
    "    new_base_dir / \"test\",\n",
    "    image_size=(180, 180),\n",
    "    batch_size=32)\n"
   ]
  },
  {
   "cell_type": "code",
   "execution_count": 13,
   "metadata": {},
   "outputs": [
    {
     "name": "stdout",
     "output_type": "stream",
     "text": [
      "Epoch 1/30\n",
      "63/63 [==============================] - 12s 84ms/step - loss: 0.8245 - accuracy: 0.5130 - val_loss: 0.6921 - val_accuracy: 0.5040\n",
      "Epoch 2/30\n",
      "63/63 [==============================] - 4s 60ms/step - loss: 0.7059 - accuracy: 0.5275 - val_loss: 0.6917 - val_accuracy: 0.6040\n",
      "Epoch 3/30\n",
      "63/63 [==============================] - 4s 59ms/step - loss: 0.7158 - accuracy: 0.5680 - val_loss: 0.6893 - val_accuracy: 0.5210\n",
      "Epoch 4/30\n",
      "63/63 [==============================] - 4s 59ms/step - loss: 0.6950 - accuracy: 0.5895 - val_loss: 0.6571 - val_accuracy: 0.5790\n",
      "Epoch 5/30\n",
      "63/63 [==============================] - 4s 59ms/step - loss: 0.6481 - accuracy: 0.6310 - val_loss: 0.8597 - val_accuracy: 0.5760\n",
      "Epoch 6/30\n",
      "63/63 [==============================] - 4s 60ms/step - loss: 0.6203 - accuracy: 0.6830 - val_loss: 0.6221 - val_accuracy: 0.6680\n",
      "Epoch 7/30\n",
      "63/63 [==============================] - 4s 58ms/step - loss: 0.5451 - accuracy: 0.7235 - val_loss: 0.6659 - val_accuracy: 0.6580\n",
      "Epoch 8/30\n",
      "63/63 [==============================] - 4s 59ms/step - loss: 0.5345 - accuracy: 0.7485 - val_loss: 0.6011 - val_accuracy: 0.7010\n",
      "Epoch 9/30\n",
      "63/63 [==============================] - 4s 60ms/step - loss: 0.4801 - accuracy: 0.7745 - val_loss: 0.5801 - val_accuracy: 0.7060\n",
      "Epoch 10/30\n",
      "63/63 [==============================] - 4s 58ms/step - loss: 0.4198 - accuracy: 0.8105 - val_loss: 0.7664 - val_accuracy: 0.6360\n",
      "Epoch 11/30\n",
      "63/63 [==============================] - 4s 58ms/step - loss: 0.3820 - accuracy: 0.8250 - val_loss: 0.6471 - val_accuracy: 0.7220\n",
      "Epoch 12/30\n",
      "63/63 [==============================] - 4s 58ms/step - loss: 0.3508 - accuracy: 0.8510 - val_loss: 0.6130 - val_accuracy: 0.7230\n",
      "Epoch 13/30\n",
      "63/63 [==============================] - 4s 58ms/step - loss: 0.2710 - accuracy: 0.8850 - val_loss: 0.8953 - val_accuracy: 0.6930\n",
      "Epoch 14/30\n",
      "63/63 [==============================] - 4s 59ms/step - loss: 0.2247 - accuracy: 0.9085 - val_loss: 0.9005 - val_accuracy: 0.7090\n",
      "Epoch 15/30\n",
      "63/63 [==============================] - 4s 58ms/step - loss: 0.1744 - accuracy: 0.9325 - val_loss: 1.1452 - val_accuracy: 0.7170\n",
      "Epoch 16/30\n",
      "63/63 [==============================] - 4s 58ms/step - loss: 0.1475 - accuracy: 0.9460 - val_loss: 0.9685 - val_accuracy: 0.7410\n",
      "Epoch 17/30\n",
      "63/63 [==============================] - 4s 58ms/step - loss: 0.1123 - accuracy: 0.9555 - val_loss: 1.1498 - val_accuracy: 0.7140\n",
      "Epoch 18/30\n",
      "63/63 [==============================] - 4s 59ms/step - loss: 0.0960 - accuracy: 0.9665 - val_loss: 1.4388 - val_accuracy: 0.6940\n",
      "Epoch 19/30\n",
      "63/63 [==============================] - 4s 58ms/step - loss: 0.0774 - accuracy: 0.9765 - val_loss: 1.2936 - val_accuracy: 0.7270\n",
      "Epoch 20/30\n",
      "63/63 [==============================] - 4s 59ms/step - loss: 0.0763 - accuracy: 0.9740 - val_loss: 2.0877 - val_accuracy: 0.6720\n",
      "Epoch 21/30\n",
      "63/63 [==============================] - 4s 58ms/step - loss: 0.0614 - accuracy: 0.9780 - val_loss: 1.4760 - val_accuracy: 0.7290\n",
      "Epoch 22/30\n",
      "63/63 [==============================] - 4s 59ms/step - loss: 0.0535 - accuracy: 0.9830 - val_loss: 1.5885 - val_accuracy: 0.7380\n",
      "Epoch 23/30\n",
      "63/63 [==============================] - 4s 59ms/step - loss: 0.0701 - accuracy: 0.9805 - val_loss: 1.5769 - val_accuracy: 0.7390\n",
      "Epoch 24/30\n",
      "63/63 [==============================] - 4s 59ms/step - loss: 0.0531 - accuracy: 0.9840 - val_loss: 1.6698 - val_accuracy: 0.7290\n",
      "Epoch 25/30\n",
      "63/63 [==============================] - 4s 59ms/step - loss: 0.0582 - accuracy: 0.9850 - val_loss: 2.3195 - val_accuracy: 0.6990\n",
      "Epoch 26/30\n",
      "63/63 [==============================] - 4s 59ms/step - loss: 0.0794 - accuracy: 0.9725 - val_loss: 1.7667 - val_accuracy: 0.7380\n",
      "Epoch 27/30\n",
      "63/63 [==============================] - 4s 58ms/step - loss: 0.0513 - accuracy: 0.9860 - val_loss: 1.7781 - val_accuracy: 0.7170\n",
      "Epoch 28/30\n",
      "63/63 [==============================] - 4s 59ms/step - loss: 0.0328 - accuracy: 0.9895 - val_loss: 2.4252 - val_accuracy: 0.7280\n",
      "Epoch 29/30\n",
      "63/63 [==============================] - 4s 59ms/step - loss: 0.0637 - accuracy: 0.9810 - val_loss: 2.1876 - val_accuracy: 0.7170\n",
      "Epoch 30/30\n",
      "63/63 [==============================] - 4s 59ms/step - loss: 0.0378 - accuracy: 0.9915 - val_loss: 2.2212 - val_accuracy: 0.7120\n"
     ]
    }
   ],
   "source": [
    "callbacks = [\n",
    "    keras.callbacks.ModelCheckpoint( # 베스트 모델 저장\n",
    "        filepath=\"convnet_from_scratch.keras\",\n",
    "        save_best_only=True,\n",
    "        monitor=\"val_loss\")\n",
    "]\n",
    "history = model.fit(\n",
    "    train_dataset, # 데이터, 레이블\n",
    "    epochs=30,\n",
    "    validation_data=validation_dataset, # 데이터, 레이블\n",
    "    callbacks=callbacks)"
   ]
  },
  {
   "cell_type": "code",
   "execution_count": 14,
   "metadata": {},
   "outputs": [
    {
     "data": {
      "text/plain": [
       "{'loss': [0.8245332837104797,\n",
       "  0.7058504223823547,\n",
       "  0.7158079743385315,\n",
       "  0.6949897408485413,\n",
       "  0.6480799913406372,\n",
       "  0.6202666759490967,\n",
       "  0.5450539588928223,\n",
       "  0.5345308184623718,\n",
       "  0.4801425635814667,\n",
       "  0.4198499321937561,\n",
       "  0.3819875121116638,\n",
       "  0.35079753398895264,\n",
       "  0.271010160446167,\n",
       "  0.22472518682479858,\n",
       "  0.1744423508644104,\n",
       "  0.14748992025852203,\n",
       "  0.11226394772529602,\n",
       "  0.09599177539348602,\n",
       "  0.0773637592792511,\n",
       "  0.0763034000992775,\n",
       "  0.061419304460287094,\n",
       "  0.0535200759768486,\n",
       "  0.07008224725723267,\n",
       "  0.0530644990503788,\n",
       "  0.05818190425634384,\n",
       "  0.07944177836179733,\n",
       "  0.05126772075891495,\n",
       "  0.03278584033250809,\n",
       "  0.06366854906082153,\n",
       "  0.037770118564367294],\n",
       " 'accuracy': [0.5130000114440918,\n",
       "  0.5274999737739563,\n",
       "  0.5680000185966492,\n",
       "  0.5895000100135803,\n",
       "  0.6309999823570251,\n",
       "  0.6830000281333923,\n",
       "  0.7235000133514404,\n",
       "  0.7484999895095825,\n",
       "  0.7745000123977661,\n",
       "  0.8105000257492065,\n",
       "  0.824999988079071,\n",
       "  0.8510000109672546,\n",
       "  0.8849999904632568,\n",
       "  0.9085000157356262,\n",
       "  0.9325000047683716,\n",
       "  0.9459999799728394,\n",
       "  0.9555000066757202,\n",
       "  0.9664999842643738,\n",
       "  0.9764999747276306,\n",
       "  0.9739999771118164,\n",
       "  0.9779999852180481,\n",
       "  0.9829999804496765,\n",
       "  0.9804999828338623,\n",
       "  0.984000027179718,\n",
       "  0.9850000143051147,\n",
       "  0.9725000262260437,\n",
       "  0.9860000014305115,\n",
       "  0.9894999861717224,\n",
       "  0.9810000061988831,\n",
       "  0.9915000200271606],\n",
       " 'val_loss': [0.6920711994171143,\n",
       "  0.6917469501495361,\n",
       "  0.6892727613449097,\n",
       "  0.6570747494697571,\n",
       "  0.8597395420074463,\n",
       "  0.6221029758453369,\n",
       "  0.665893018245697,\n",
       "  0.6010684967041016,\n",
       "  0.5800597071647644,\n",
       "  0.7663758397102356,\n",
       "  0.6470537781715393,\n",
       "  0.6129575967788696,\n",
       "  0.8952633142471313,\n",
       "  0.9004548192024231,\n",
       "  1.1452122926712036,\n",
       "  0.9685041308403015,\n",
       "  1.1498404741287231,\n",
       "  1.4387940168380737,\n",
       "  1.29358971118927,\n",
       "  2.0877368450164795,\n",
       "  1.4759596586227417,\n",
       "  1.588501214981079,\n",
       "  1.5769236087799072,\n",
       "  1.6697635650634766,\n",
       "  2.319495916366577,\n",
       "  1.7667123079299927,\n",
       "  1.7781078815460205,\n",
       "  2.4252047538757324,\n",
       "  2.187636137008667,\n",
       "  2.2211709022521973],\n",
       " 'val_accuracy': [0.5040000081062317,\n",
       "  0.6039999723434448,\n",
       "  0.5210000276565552,\n",
       "  0.5789999961853027,\n",
       "  0.5759999752044678,\n",
       "  0.6679999828338623,\n",
       "  0.6579999923706055,\n",
       "  0.7009999752044678,\n",
       "  0.7059999704360962,\n",
       "  0.6359999775886536,\n",
       "  0.722000002861023,\n",
       "  0.7229999899864197,\n",
       "  0.6930000185966492,\n",
       "  0.7089999914169312,\n",
       "  0.7170000076293945,\n",
       "  0.7409999966621399,\n",
       "  0.7139999866485596,\n",
       "  0.6940000057220459,\n",
       "  0.7269999980926514,\n",
       "  0.671999990940094,\n",
       "  0.7289999723434448,\n",
       "  0.7379999756813049,\n",
       "  0.7390000224113464,\n",
       "  0.7289999723434448,\n",
       "  0.6990000009536743,\n",
       "  0.7379999756813049,\n",
       "  0.7170000076293945,\n",
       "  0.7279999852180481,\n",
       "  0.7170000076293945,\n",
       "  0.7120000123977661]}"
      ]
     },
     "execution_count": 14,
     "metadata": {},
     "output_type": "execute_result"
    }
   ],
   "source": [
    "history.history"
   ]
  },
  {
   "cell_type": "code",
   "execution_count": 15,
   "metadata": {},
   "outputs": [
    {
     "data": {
      "image/png": "[encoded data removed]",
      "text/plain": [
       "<Figure size 640x480 with 1 Axes>"
      ]
     },
     "metadata": {},
     "output_type": "display_data"
    },
    {
     "data": {
      "image/png": "[encoded data removed]",
      "text/plain": [
       "<Figure size 640x480 with 1 Axes>"
      ]
     },
     "metadata": {},
     "output_type": "display_data"
    }
   ],
   "source": [
    "import matplotlib.pyplot as plt\n",
    "accuracy = history.history[\"accuracy\"]\n",
    "val_accuracy = history.history[\"val_accuracy\"]\n",
    "loss = history.history[\"loss\"]\n",
    "val_loss = history.history[\"val_loss\"]\n",
    "epochs = range(1, len(accuracy) + 1)\n",
    "plt.plot(epochs, accuracy, \"bo\", label=\"Training accuracy\")\n",
    "plt.plot(epochs, val_accuracy, \"b\", label=\"Validation accuracy\")\n",
    "plt.title(\"Training and validation accuracy\")\n",
    "plt.legend()\n",
    "plt.figure()\n",
    "plt.plot(epochs, loss, \"bo\", label=\"Training loss\")\n",
    "plt.plot(epochs, val_loss, \"b\", label=\"Validation loss\")\n",
    "plt.title(\"Training and validation loss\")\n",
    "plt.legend()\n",
    "plt.show()"
   ]
  },
  {
   "cell_type": "code",
   "execution_count": 16,
   "metadata": {},
   "outputs": [
    {
     "name": "stdout",
     "output_type": "stream",
     "text": [
      "63/63 [==============================] - 2s 30ms/step - loss: 0.5812 - accuracy: 0.6980\n",
      "테스트 정확도: 0.698\n"
     ]
    }
   ],
   "source": [
    "test_model = keras.models.load_model(\"convnet_from_scratch.keras\")\n",
    "test_loss, test_acc = test_model.evaluate(test_dataset)\n",
    "print(f\"테스트 정확도: {test_acc:.3f}\")"
   ]
  }
 ],
 "metadata": {
  "kernelspec": {
   "display_name": "dl-dev",
   "language": "python",
   "name": "python3"
  },
  "language_info": {
   "codemirror_mode": {
    "name": "ipython",
    "version": 3
   },
   "file_extension": ".py",
   "mimetype": "text/x-python",
   "name": "python",
   "nbconvert_exporter": "python",
   "pygments_lexer": "ipython3",
   "version": "3.8.19"
  }
 },
 "nbformat": 4,
 "nbformat_minor": 2
}
