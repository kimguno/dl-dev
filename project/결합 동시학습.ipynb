{
 "cells": [
  {
   "cell_type": "code",
   "execution_count": 1,
   "metadata": {},
   "outputs": [
    {
     "name": "stderr",
     "output_type": "stream",
     "text": [
      "c:\\big18\\dl-dev\\dl-dev\\project\\mylib.py:22: SettingWithCopyWarning: \n",
      "A value is trying to be set on a copy of a slice from a DataFrame\n",
      "\n",
      "See the caveats in the documentation: https://pandas.pydata.org/pandas-docs/stable/user_guide/indexing.html#returning-a-view-versus-a-copy\n",
      "  data.rename(columns={\n"
     ]
    }
   ],
   "source": [
    "import numpy as np\n",
    "import pandas as pd\n",
    "import tensorflow as tf\n",
    "from tensorflow.keras import layers, models\n",
    "import mylib as ml\n",
    "\n",
    "# 데이터 로딩 예시 (데이터프레임 형식)\n",
    "df = ml.data_000660()"
   ]
  },
  {
   "cell_type": "code",
   "execution_count": 2,
   "metadata": {},
   "outputs": [],
   "source": [
    "# 시퀀스 길이 및 특성 수 설정\n",
    "time_steps = 5  # 사용할 시퀀스 길이\n",
    "features = 2     # 종가와 거래량\n",
    "\n",
    "# 데이터 준비 함수\n",
    "def prepare_data(df, time_steps):\n",
    "    X = []\n",
    "    y = []\n",
    "    \n",
    "    for i in range(len(df) - time_steps):\n",
    "        X.append(df.iloc[i:i + time_steps][['close', 'volume']].values)\n",
    "        # 다음 종가가 현재 종가보다 높으면 1, 낮으면 0\n",
    "        y.append(1 if df.iloc[i + time_steps]['close'] > df.iloc[i + time_steps - 1]['close'] else 0)\n",
    "\n",
    "    return np.array(X), np.array(y)\n",
    "\n",
    "# 1D CNN 모델 정의\n",
    "def create_cnn_model(input_shape):\n",
    "    cnn_input = layers.Input(shape=input_shape)\n",
    "    x = layers.Conv1D(filters=32, kernel_size=2, activation='relu')(cnn_input)\n",
    "    x = layers.MaxPooling1D(pool_size=2)(x)\n",
    "    x = layers.Flatten()(x)\n",
    "    cnn_output = layers.Dense(64, activation='relu')(x)\n",
    "    return models.Model(inputs=cnn_input, outputs=cnn_output)\n",
    "\n",
    "# 트랜스포머 모델 정의\n",
    "class TransformerBlock(layers.Layer):\n",
    "    def __init__(self, embed_size, heads, dropout=0):\n",
    "        super(TransformerBlock, self).__init__()\n",
    "        self.attention = layers.MultiHeadAttention(num_heads=heads, key_dim=embed_size)\n",
    "        self.norm1 = layers.LayerNormalization(epsilon=1e-6)\n",
    "        self.norm2 = layers.LayerNormalization(epsilon=1e-6)\n",
    "        self.feed_forward = models.Sequential([\n",
    "            layers.Dense(2048, activation='relu'),\n",
    "            layers.Dense(embed_size)\n",
    "        ])\n",
    "        self.dropout1 = layers.Dropout(dropout)\n",
    "        self.dropout2 = layers.Dropout(dropout)\n",
    "\n",
    "    def call(self, x):\n",
    "        attention = self.attention(x, x)\n",
    "        x = self.norm1(x + self.dropout1(attention))\n",
    "        feed_forward = self.feed_forward(x)\n",
    "        return self.norm2(x + self.dropout2(feed_forward))\n",
    "\n",
    "# 결합 모델 생성\n",
    "def create_combined_model(input_shape):\n",
    "    cnn_model = create_cnn_model(input_shape)\n",
    "    \n",
    "    # CNN 출력과 트랜스포머 입력\n",
    "    transformer_input = layers.Input(shape=(time_steps, features))  # 시퀀스 길이에 맞춰 조정\n",
    "    transformer_block = TransformerBlock(embed_size=features, heads=4)(transformer_input)\n",
    "    transformer_output = layers.GlobalAveragePooling1D()(transformer_block)\n",
    "    \n",
    "    # CNN 모델의 입력과 출력\n",
    "    cnn_output = cnn_model.output\n",
    "    cnn_model_input = cnn_model.input\n",
    "    \n",
    "    # 두 모델의 출력 결합\n",
    "    combined = layers.Concatenate()([cnn_output, transformer_output])\n",
    "    combined_output = layers.Dense(1, activation='sigmoid')(combined)  # 다음 종가 예측\n",
    "    \n",
    "    return models.Model(inputs=[cnn_model_input, transformer_input], outputs=combined_output)\n"
   ]
  },
  {
   "cell_type": "code",
   "execution_count": 3,
   "metadata": {},
   "outputs": [
    {
     "name": "stdout",
     "output_type": "stream",
     "text": [
      "Model: \"model_1\"\n",
      "__________________________________________________________________________________________________\n",
      " Layer (type)                   Output Shape         Param #     Connected to                     \n",
      "==================================================================================================\n",
      " input_1 (InputLayer)           [(None, 5, 2)]       0           []                               \n",
      "                                                                                                  \n",
      " conv1d (Conv1D)                (None, 4, 32)        160         ['input_1[0][0]']                \n",
      "                                                                                                  \n",
      " max_pooling1d (MaxPooling1D)   (None, 2, 32)        0           ['conv1d[0][0]']                 \n",
      "                                                                                                  \n",
      " input_2 (InputLayer)           [(None, 5, 2)]       0           []                               \n",
      "                                                                                                  \n",
      " flatten (Flatten)              (None, 64)           0           ['max_pooling1d[0][0]']          \n",
      "                                                                                                  \n",
      " transformer_block (Transformer  (None, 5, 2)        10340       ['input_2[0][0]']                \n",
      " Block)                                                                                           \n",
      "                                                                                                  \n",
      " dense (Dense)                  (None, 64)           4160        ['flatten[0][0]']                \n",
      "                                                                                                  \n",
      " global_average_pooling1d (Glob  (None, 2)           0           ['transformer_block[0][0]']      \n",
      " alAveragePooling1D)                                                                              \n",
      "                                                                                                  \n",
      " concatenate (Concatenate)      (None, 66)           0           ['dense[0][0]',                  \n",
      "                                                                  'global_average_pooling1d[0][0]'\n",
      "                                                                 ]                                \n",
      "                                                                                                  \n",
      " dense_3 (Dense)                (None, 1)            67          ['concatenate[0][0]']            \n",
      "                                                                                                  \n",
      "==================================================================================================\n",
      "Total params: 14,727\n",
      "Trainable params: 14,727\n",
      "Non-trainable params: 0\n",
      "__________________________________________________________________________________________________\n"
     ]
    }
   ],
   "source": [
    "# 모델 생성\n",
    "input_shape_cnn = (time_steps, features)\n",
    "combined_model = create_combined_model(input_shape_cnn)\n",
    "\n",
    "# 모델 컴파일\n",
    "combined_model.compile(optimizer='adam', loss='binary_crossentropy', metrics=['accuracy'])\n",
    "\n",
    "# 모델 요약\n",
    "combined_model.summary()\n",
    "\n",
    "# 데이터 준비\n",
    "X, y = prepare_data(df, time_steps)\n"
   ]
  },
  {
   "cell_type": "code",
   "execution_count": 4,
   "metadata": {},
   "outputs": [
    {
     "name": "stdout",
     "output_type": "stream",
     "text": [
      "0\n",
      "0    12178\n",
      "1     5207\n",
      "Name: count, dtype: int64\n"
     ]
    }
   ],
   "source": [
    "data=pd.DataFrame(y)\n",
    "distribution = data[0].value_counts()\n",
    "print(distribution)"
   ]
  },
  {
   "cell_type": "code",
   "execution_count": null,
   "metadata": {},
   "outputs": [],
   "source": [
    "# 모델 훈련\n",
    "combined_model.fit([X, X], y, epochs=100, batch_size=32, validation_split=0.2)"
   ]
  },
  {
   "cell_type": "code",
   "execution_count": null,
   "metadata": {},
   "outputs": [],
   "source": [
    "from keras.callbacks import ReduceLROnPlateau\n",
    "\n",
    "reduce_lr = ReduceLROnPlateau(monitor='accuracy', factor=0.5, patience=3, min_lr=1e-6)\n",
    "combined_model.fit([X, X], y, epochs=100, batch_size=32, validation_split=0.2, callbacks=[reduce_lr])\n"
   ]
  }
 ],
 "metadata": {
  "kernelspec": {
   "display_name": "dl-dev",
   "language": "python",
   "name": "python3"
  },
  "language_info": {
   "codemirror_mode": {
    "name": "ipython",
    "version": 3
   },
   "file_extension": ".py",
   "mimetype": "text/x-python",
   "name": "python",
   "nbconvert_exporter": "python",
   "pygments_lexer": "ipython3",
   "version": "3.8.18"
  }
 },
 "nbformat": 4,
 "nbformat_minor": 2
}
