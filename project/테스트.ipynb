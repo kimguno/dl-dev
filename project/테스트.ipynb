{
 "cells": [
  {
   "cell_type": "code",
   "execution_count": 3,
   "metadata": {},
   "outputs": [
    {
     "data": {
      "text/plain": [
       "array([[['종가1', '매수량1', '매도량1']],\n",
       "\n",
       "       [['종가2', '매수량2', '매도량2']],\n",
       "\n",
       "       [['종가3', '매수량3', '매도량3']],\n",
       "\n",
       "       [['종가4', '매수량4', '매도량4']],\n",
       "\n",
       "       [['종가5', '매수량5', '매도량5']]], dtype='<U4')"
      ]
     },
     "execution_count": 3,
     "metadata": {},
     "output_type": "execute_result"
    }
   ],
   "source": [
    "import numpy as np\n",
    "\n",
    "# 예시 데이터 생성 (5, 3) 형태로 가정\n",
    "data = np.array([\n",
    "    ['종가1', '매수량1', '매도량1'],\n",
    "['종가2', '매수량2', '매도량2'],\n",
    "['종가3', '매수량3', '매도량3'],\n",
    "['종가4', '매수량4', '매도량4'],\n",
    "['종가5', '매수량5', '매도량5']\n",
    "])\n",
    "\n",
    "# 데이터 리쉐이프\n",
    "reshaped_data = data.reshape(5, 1, 3)\n",
    "\n",
    "reshaped_data"
   ]
  },
  {
   "cell_type": "code",
   "execution_count": null,
   "metadata": {},
   "outputs": [],
   "source": []
  }
 ],
 "metadata": {
  "kernelspec": {
   "display_name": "dl-dev",
   "language": "python",
   "name": "python3"
  },
  "language_info": {
   "codemirror_mode": {
    "name": "ipython",
    "version": 3
   },
   "file_extension": ".py",
   "mimetype": "text/x-python",
   "name": "python",
   "nbconvert_exporter": "python",
   "pygments_lexer": "ipython3",
   "version": "3.8.18"
  }
 },
 "nbformat": 4,
 "nbformat_minor": 2
}
