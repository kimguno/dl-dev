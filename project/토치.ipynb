{
 "cells": [
  {
   "cell_type": "code",
   "execution_count": 4,
   "metadata": {},
   "outputs": [],
   "source": [
    "import torch\n",
    "import os\n",
    "import numpy as np\n",
    "import pandas as pd\n",
    "from tqdm import tqdm\n",
    "import seaborn as sns\n",
    "from pylab import rcParams\n",
    "import matplotlib.pyplot as plt\n",
    "from matplotlib import rc\n",
    "from sklearn.preprocessing import MinMaxScaler\n",
    "from pandas.plotting import register_matplotlib_converters\n",
    "from torch import nn, optim"
   ]
  },
  {
   "cell_type": "code",
   "execution_count": 5,
   "metadata": {},
   "outputs": [
    {
     "data": {
      "text/plain": [
       "<torch._C.Generator at 0x2352d1815d0>"
      ]
     },
     "execution_count": 5,
     "metadata": {},
     "output_type": "execute_result"
    }
   ],
   "source": [
    "sns.set(style='whitegrid', palette='muted', font_scale=1.2)\n",
    "rcParams['figure.figsize'] = 14, 10\n",
    "register_matplotlib_converters()\n",
    "RANDOM_SEED = 42\n",
    "np.random.seed(RANDOM_SEED)\n",
    "torch.manual_seed(RANDOM_SEED)"
   ]
  },
  {
   "cell_type": "markdown",
   "metadata": {},
   "source": [
    "데이터\n"
   ]
  },
  {
   "cell_type": "code",
   "execution_count": 32,
   "metadata": {},
   "outputs": [
    {
     "name": "stderr",
     "output_type": "stream",
     "text": [
      "C:\\Users\\F06\\AppData\\Local\\Temp\\ipykernel_22336\\457760488.py:5: SettingWithCopyWarning: \n",
      "A value is trying to be set on a copy of a slice from a DataFrame\n",
      "\n",
      "See the caveats in the documentation: https://pandas.pydata.org/pandas-docs/stable/user_guide/indexing.html#returning-a-view-versus-a-copy\n",
      "  data.rename(columns={\n"
     ]
    },
    {
     "data": {
      "text/html": [
       "<div>\n",
       "<style scoped>\n",
       "    .dataframe tbody tr th:only-of-type {\n",
       "        vertical-align: middle;\n",
       "    }\n",
       "\n",
       "    .dataframe tbody tr th {\n",
       "        vertical-align: top;\n",
       "    }\n",
       "\n",
       "    .dataframe thead th {\n",
       "        text-align: right;\n",
       "    }\n",
       "</style>\n",
       "<table border=\"1\" class=\"dataframe\">\n",
       "  <thead>\n",
       "    <tr style=\"text-align: right;\">\n",
       "      <th></th>\n",
       "      <th>close</th>\n",
       "      <th>sell</th>\n",
       "      <th>buy</th>\n",
       "    </tr>\n",
       "  </thead>\n",
       "  <tbody>\n",
       "    <tr>\n",
       "      <th>0</th>\n",
       "      <td>90000</td>\n",
       "      <td>4524.0</td>\n",
       "      <td>6214.0</td>\n",
       "    </tr>\n",
       "    <tr>\n",
       "      <th>1</th>\n",
       "      <td>90200</td>\n",
       "      <td>4379.0</td>\n",
       "      <td>21092.0</td>\n",
       "    </tr>\n",
       "    <tr>\n",
       "      <th>2</th>\n",
       "      <td>90300</td>\n",
       "      <td>143.0</td>\n",
       "      <td>10027.0</td>\n",
       "    </tr>\n",
       "    <tr>\n",
       "      <th>3</th>\n",
       "      <td>90300</td>\n",
       "      <td>7532.0</td>\n",
       "      <td>18925.0</td>\n",
       "    </tr>\n",
       "    <tr>\n",
       "      <th>4</th>\n",
       "      <td>90300</td>\n",
       "      <td>604.0</td>\n",
       "      <td>938.0</td>\n",
       "    </tr>\n",
       "  </tbody>\n",
       "</table>\n",
       "</div>"
      ],
      "text/plain": [
       "   close    sell      buy\n",
       "0  90000  4524.0   6214.0\n",
       "1  90200  4379.0  21092.0\n",
       "2  90300   143.0  10027.0\n",
       "3  90300  7532.0  18925.0\n",
       "4  90300   604.0    938.0"
      ]
     },
     "execution_count": 32,
     "metadata": {},
     "output_type": "execute_result"
    }
   ],
   "source": [
    "data= pd.read_csv('./000660.csv')\n",
    "\n",
    "def dataRename(data):\n",
    "    data=data[['종가','매도량','매수량']]\n",
    "    data.rename(columns={\n",
    "                                '종가' : 'close',\n",
    "                                '매도량' : 'sell',\n",
    "                                '매수량' : 'buy',\n",
    "                            }, inplace=True)\n",
    "    return data\n",
    "\n",
    "data2=dataRename(data)\n",
    "data2.head()"
   ]
  },
  {
   "cell_type": "code",
   "execution_count": 114,
   "metadata": {},
   "outputs": [
    {
     "name": "stderr",
     "output_type": "stream",
     "text": [
      "C:\\Users\\F06\\AppData\\Local\\Temp\\ipykernel_22336\\457760488.py:5: SettingWithCopyWarning: \n",
      "A value is trying to be set on a copy of a slice from a DataFrame\n",
      "\n",
      "See the caveats in the documentation: https://pandas.pydata.org/pandas-docs/stable/user_guide/indexing.html#returning-a-view-versus-a-copy\n",
      "  data.rename(columns={\n"
     ]
    },
    {
     "data": {
      "text/html": [
       "<div>\n",
       "<style scoped>\n",
       "    .dataframe tbody tr th:only-of-type {\n",
       "        vertical-align: middle;\n",
       "    }\n",
       "\n",
       "    .dataframe tbody tr th {\n",
       "        vertical-align: top;\n",
       "    }\n",
       "\n",
       "    .dataframe thead th {\n",
       "        text-align: right;\n",
       "    }\n",
       "</style>\n",
       "<table border=\"1\" class=\"dataframe\">\n",
       "  <thead>\n",
       "    <tr style=\"text-align: right;\">\n",
       "      <th></th>\n",
       "      <th>close</th>\n",
       "      <th>sell</th>\n",
       "      <th>buy</th>\n",
       "    </tr>\n",
       "  </thead>\n",
       "  <tbody>\n",
       "    <tr>\n",
       "      <th>0</th>\n",
       "      <td>90000</td>\n",
       "      <td>4524</td>\n",
       "      <td>6214</td>\n",
       "    </tr>\n",
       "    <tr>\n",
       "      <th>1</th>\n",
       "      <td>200</td>\n",
       "      <td>-145</td>\n",
       "      <td>14878</td>\n",
       "    </tr>\n",
       "    <tr>\n",
       "      <th>2</th>\n",
       "      <td>100</td>\n",
       "      <td>-4236</td>\n",
       "      <td>-11065</td>\n",
       "    </tr>\n",
       "    <tr>\n",
       "      <th>3</th>\n",
       "      <td>0</td>\n",
       "      <td>7389</td>\n",
       "      <td>8898</td>\n",
       "    </tr>\n",
       "    <tr>\n",
       "      <th>4</th>\n",
       "      <td>0</td>\n",
       "      <td>-6928</td>\n",
       "      <td>-17987</td>\n",
       "    </tr>\n",
       "    <tr>\n",
       "      <th>...</th>\n",
       "      <td>...</td>\n",
       "      <td>...</td>\n",
       "      <td>...</td>\n",
       "    </tr>\n",
       "    <tr>\n",
       "      <th>17385</th>\n",
       "      <td>-200</td>\n",
       "      <td>1709</td>\n",
       "      <td>-20007</td>\n",
       "    </tr>\n",
       "    <tr>\n",
       "      <th>17386</th>\n",
       "      <td>0</td>\n",
       "      <td>2212</td>\n",
       "      <td>-2570</td>\n",
       "    </tr>\n",
       "    <tr>\n",
       "      <th>17387</th>\n",
       "      <td>-200</td>\n",
       "      <td>30495</td>\n",
       "      <td>52023</td>\n",
       "    </tr>\n",
       "    <tr>\n",
       "      <th>17388</th>\n",
       "      <td>300</td>\n",
       "      <td>-36057</td>\n",
       "      <td>-36775</td>\n",
       "    </tr>\n",
       "    <tr>\n",
       "      <th>17389</th>\n",
       "      <td>-100</td>\n",
       "      <td>9953</td>\n",
       "      <td>-1329</td>\n",
       "    </tr>\n",
       "  </tbody>\n",
       "</table>\n",
       "<p>17390 rows × 3 columns</p>\n",
       "</div>"
      ],
      "text/plain": [
       "       close   sell    buy\n",
       "0      90000   4524   6214\n",
       "1        200   -145  14878\n",
       "2        100  -4236 -11065\n",
       "3          0   7389   8898\n",
       "4          0  -6928 -17987\n",
       "...      ...    ...    ...\n",
       "17385   -200   1709 -20007\n",
       "17386      0   2212  -2570\n",
       "17387   -200  30495  52023\n",
       "17388    300 -36057 -36775\n",
       "17389   -100   9953  -1329\n",
       "\n",
       "[17390 rows x 3 columns]"
      ]
     },
     "execution_count": 114,
     "metadata": {},
     "output_type": "execute_result"
    }
   ],
   "source": [
    "data = pd.read_csv('./000660.csv')\n",
    "confirmed=dataRename(data)\n",
    "# confirmed[confirmed['Code']=='원하는 코드'] 이건 전체데이터 로드할때 쓰는거에용\n",
    "daily_cases = confirmed.diff().fillna(confirmed.iloc[0]).astype('int')\n",
    "daily_cases"
   ]
  },
  {
   "cell_type": "code",
   "execution_count": 116,
   "metadata": {},
   "outputs": [
    {
     "name": "stderr",
     "output_type": "stream",
     "text": [
      "C:\\Users\\F06\\AppData\\Local\\Temp\\ipykernel_22336\\568399270.py:1: SettingWithCopyWarning: \n",
      "A value is trying to be set on a copy of a slice from a DataFrame.\n",
      "Try using .loc[row_indexer,col_indexer] = value instead\n",
      "\n",
      "See the caveats in the documentation: https://pandas.pydata.org/pandas-docs/stable/user_guide/indexing.html#returning-a-view-versus-a-copy\n",
      "  confirmed['backClose'] = confirmed['close'].shift(1)\n",
      "C:\\Users\\F06\\AppData\\Local\\Temp\\ipykernel_22336\\568399270.py:2: SettingWithCopyWarning: \n",
      "A value is trying to be set on a copy of a slice from a DataFrame.\n",
      "Try using .loc[row_indexer,col_indexer] = value instead\n",
      "\n",
      "See the caveats in the documentation: https://pandas.pydata.org/pandas-docs/stable/user_guide/indexing.html#returning-a-view-versus-a-copy\n",
      "  confirmed['backClose'] = confirmed['backClose'].fillna(confirmed['close'])\n",
      "C:\\Users\\F06\\AppData\\Local\\Temp\\ipykernel_22336\\568399270.py:3: SettingWithCopyWarning: \n",
      "A value is trying to be set on a copy of a slice from a DataFrame.\n",
      "Try using .loc[row_indexer,col_indexer] = value instead\n",
      "\n",
      "See the caveats in the documentation: https://pandas.pydata.org/pandas-docs/stable/user_guide/indexing.html#returning-a-view-versus-a-copy\n",
      "  confirmed['taget'] = confirmed.apply(lambda row: 1 if row['close'] > row['backClose']\n",
      "C:\\Users\\F06\\AppData\\Local\\Temp\\ipykernel_22336\\568399270.py:6: SettingWithCopyWarning: \n",
      "A value is trying to be set on a copy of a slice from a DataFrame\n",
      "\n",
      "See the caveats in the documentation: https://pandas.pydata.org/pandas-docs/stable/user_guide/indexing.html#returning-a-view-versus-a-copy\n",
      "  confirmed.drop(['backClose'],inplace=True , axis=1)\n"
     ]
    },
    {
     "data": {
      "text/html": [
       "<div>\n",
       "<style scoped>\n",
       "    .dataframe tbody tr th:only-of-type {\n",
       "        vertical-align: middle;\n",
       "    }\n",
       "\n",
       "    .dataframe tbody tr th {\n",
       "        vertical-align: top;\n",
       "    }\n",
       "\n",
       "    .dataframe thead th {\n",
       "        text-align: right;\n",
       "    }\n",
       "</style>\n",
       "<table border=\"1\" class=\"dataframe\">\n",
       "  <thead>\n",
       "    <tr style=\"text-align: right;\">\n",
       "      <th></th>\n",
       "      <th>close</th>\n",
       "      <th>sell</th>\n",
       "      <th>buy</th>\n",
       "      <th>taget</th>\n",
       "    </tr>\n",
       "  </thead>\n",
       "  <tbody>\n",
       "    <tr>\n",
       "      <th>0</th>\n",
       "      <td>90000</td>\n",
       "      <td>4524.0</td>\n",
       "      <td>6214.0</td>\n",
       "      <td>0</td>\n",
       "    </tr>\n",
       "    <tr>\n",
       "      <th>1</th>\n",
       "      <td>90200</td>\n",
       "      <td>4379.0</td>\n",
       "      <td>21092.0</td>\n",
       "      <td>1</td>\n",
       "    </tr>\n",
       "    <tr>\n",
       "      <th>2</th>\n",
       "      <td>90300</td>\n",
       "      <td>143.0</td>\n",
       "      <td>10027.0</td>\n",
       "      <td>1</td>\n",
       "    </tr>\n",
       "    <tr>\n",
       "      <th>3</th>\n",
       "      <td>90300</td>\n",
       "      <td>7532.0</td>\n",
       "      <td>18925.0</td>\n",
       "      <td>0</td>\n",
       "    </tr>\n",
       "    <tr>\n",
       "      <th>4</th>\n",
       "      <td>90300</td>\n",
       "      <td>604.0</td>\n",
       "      <td>938.0</td>\n",
       "      <td>0</td>\n",
       "    </tr>\n",
       "    <tr>\n",
       "      <th>...</th>\n",
       "      <td>...</td>\n",
       "      <td>...</td>\n",
       "      <td>...</td>\n",
       "      <td>...</td>\n",
       "    </tr>\n",
       "    <tr>\n",
       "      <th>17385</th>\n",
       "      <td>172900</td>\n",
       "      <td>20368.0</td>\n",
       "      <td>9388.0</td>\n",
       "      <td>2</td>\n",
       "    </tr>\n",
       "    <tr>\n",
       "      <th>17386</th>\n",
       "      <td>172900</td>\n",
       "      <td>22580.0</td>\n",
       "      <td>6818.0</td>\n",
       "      <td>0</td>\n",
       "    </tr>\n",
       "    <tr>\n",
       "      <th>17387</th>\n",
       "      <td>172700</td>\n",
       "      <td>53075.0</td>\n",
       "      <td>58841.0</td>\n",
       "      <td>2</td>\n",
       "    </tr>\n",
       "    <tr>\n",
       "      <th>17388</th>\n",
       "      <td>173000</td>\n",
       "      <td>17018.0</td>\n",
       "      <td>22066.0</td>\n",
       "      <td>1</td>\n",
       "    </tr>\n",
       "    <tr>\n",
       "      <th>17389</th>\n",
       "      <td>172900</td>\n",
       "      <td>26971.0</td>\n",
       "      <td>20737.0</td>\n",
       "      <td>2</td>\n",
       "    </tr>\n",
       "  </tbody>\n",
       "</table>\n",
       "<p>17390 rows × 4 columns</p>\n",
       "</div>"
      ],
      "text/plain": [
       "        close     sell      buy  taget\n",
       "0       90000   4524.0   6214.0      0\n",
       "1       90200   4379.0  21092.0      1\n",
       "2       90300    143.0  10027.0      1\n",
       "3       90300   7532.0  18925.0      0\n",
       "4       90300    604.0    938.0      0\n",
       "...       ...      ...      ...    ...\n",
       "17385  172900  20368.0   9388.0      2\n",
       "17386  172900  22580.0   6818.0      0\n",
       "17387  172700  53075.0  58841.0      2\n",
       "17388  173000  17018.0  22066.0      1\n",
       "17389  172900  26971.0  20737.0      2\n",
       "\n",
       "[17390 rows x 4 columns]"
      ]
     },
     "execution_count": 116,
     "metadata": {},
     "output_type": "execute_result"
    }
   ],
   "source": [
    "confirmed['backClose'] = confirmed['close'].shift(1)\n",
    "confirmed['backClose'] = confirmed['backClose'].fillna(confirmed['close'])\n",
    "confirmed['taget'] = confirmed.apply(lambda row: 1 if row['close'] > row['backClose'] \n",
    "                                 else (0 if row['close'] == row['backClose'] \n",
    "                                 else 2), axis=1)\n",
    "confirmed.drop(['backClose'],inplace=True , axis=1)\n",
    "confirmed"
   ]
  },
  {
   "cell_type": "code",
   "execution_count": 34,
   "metadata": {},
   "outputs": [
    {
     "name": "stderr",
     "output_type": "stream",
     "text": [
      "C:\\Users\\F06\\AppData\\Local\\Temp\\ipykernel_22336\\457760488.py:5: SettingWithCopyWarning: \n",
      "A value is trying to be set on a copy of a slice from a DataFrame\n",
      "\n",
      "See the caveats in the documentation: https://pandas.pydata.org/pandas-docs/stable/user_guide/indexing.html#returning-a-view-versus-a-copy\n",
      "  data.rename(columns={\n"
     ]
    }
   ],
   "source": [
    "data = pd.read_csv('./000660.csv')\n",
    "confirmed=dataRename(data)\n",
    "# confirmed[confirmed['Code']=='원하는 코드'] 이건 전체데이터 로드할때 쓰는거에용\n",
    "daily_cases = confirmed.diff().fillna(confirmed.iloc[0]).astype('int')\n",
    "\n",
    "def create_sequences(data, seq_length):\n",
    "    xs = []\n",
    "    ys = []\n",
    "    for i in range(len(data)-seq_length):\n",
    "        x = data.iloc[i:(i+seq_length)]\n",
    "        y = data.iloc[i+seq_length]\n",
    "        xs.append(x)\n",
    "        ys.append(y)\n",
    "    return np.array(xs), np.array(ys)\n",
    "\n",
    "seq_length = 1\n",
    "X, y = create_sequences(daily_cases, seq_length)\n",
    "\n",
    "#학습용, 검증용, 시험용으로 분리\n",
    "train_size = int(327 * 0.8)\n",
    "X_train, y_train = X[:train_size], y[:train_size]\n",
    "X_val, y_val = X[train_size:train_size+33], y[train_size:train_size+33]\n",
    "X_test, y_test = X[train_size+33:], y[train_size+33:]\n",
    "\n",
    "MIN = X_train.min()\n",
    "MAX = X_train.max()\n",
    "\n",
    "def MinMaxScale(array, min, max):\n",
    "\n",
    "    return (array - min) / (max - min)\n",
    "\n",
    "#MinMax 스케일링\n",
    "X_train = MinMaxScale(X_train, MIN, MAX)\n",
    "y_train = MinMaxScale(y_train, MIN, MAX)\n",
    "X_val = MinMaxScale(X_val, MIN, MAX)\n",
    "y_val = MinMaxScale(y_val, MIN, MAX)\n",
    "X_test = MinMaxScale(X_test, MIN, MAX)\n",
    "y_test = MinMaxScale(y_test, MIN, MAX)\n",
    "\n",
    "#Tensor 형태로 변환\n",
    "def make_Tensor(array):\n",
    "    return torch.from_numpy(array).float()\n",
    "\n",
    "X_train = make_Tensor(X_train)\n",
    "y_train = make_Tensor(y_train)\n",
    "X_val = make_Tensor(X_val)\n",
    "y_val = make_Tensor(y_val)\n",
    "X_test = make_Tensor(X_test)\n",
    "y_test = make_Tensor(y_test)"
   ]
  },
  {
   "cell_type": "code",
   "execution_count": 35,
   "metadata": {},
   "outputs": [
    {
     "data": {
      "text/plain": [
       "[<matplotlib.lines.Line2D at 0x2356bf27c70>,\n",
       " <matplotlib.lines.Line2D at 0x2356cf73ee0>,\n",
       " <matplotlib.lines.Line2D at 0x2356cf73fa0>]"
      ]
     },
     "execution_count": 35,
     "metadata": {},
     "output_type": "execute_result"
    },
    {
     "data": {
      "image/png": "[encoded data removed]",
      "text/plain": [
       "<Figure size 1400x1000 with 1 Axes>"
      ]
     },
     "metadata": {},
     "output_type": "display_data"
    }
   ],
   "source": [
    "plt.plot(daily_cases.values)"
   ]
  },
  {
   "cell_type": "code",
   "execution_count": 61,
   "metadata": {},
   "outputs": [
    {
     "data": {
      "text/plain": [
       "(17390, 20)"
      ]
     },
     "execution_count": 61,
     "metadata": {},
     "output_type": "execute_result"
    }
   ],
   "source": [
    "data.shape"
   ]
  },
  {
   "cell_type": "code",
   "execution_count": 66,
   "metadata": {},
   "outputs": [
    {
     "data": {
      "text/plain": [
       "tensor([[[1.1815, 1.1815]],\n",
       "\n",
       "        [[1.8577, 1.8577]],\n",
       "\n",
       "        [[2.5340, 2.5340]],\n",
       "\n",
       "        [[3.2103, 3.2103]],\n",
       "\n",
       "        [[3.8866, 3.8866]]], grad_fn=<ConvolutionBackward0>)"
      ]
     },
     "execution_count": 66,
     "metadata": {},
     "output_type": "execute_result"
    }
   ],
   "source": [
    "c = nn.Conv1d(in_channels=1, out_channels=1, kernel_size=2, stride=1)\n",
    "input = torch.Tensor([[[1, 2, 3, 4, 5]]])\n",
    "# 텐서를 (5, 1, 1)로 변형\n",
    "reshaped = input.view(5, 1, 1)\n",
    "input = reshaped.expand(-1, -1, 3)\n",
    "output = c(input)\n",
    "output"
   ]
  },
  {
   "cell_type": "code",
   "execution_count": 68,
   "metadata": {},
   "outputs": [
    {
     "name": "stdout",
     "output_type": "stream",
     "text": [
      "torch.Size([5, 1, 3])\n"
     ]
    }
   ],
   "source": [
    "print(input.shape)  "
   ]
  },
  {
   "cell_type": "code",
   "execution_count": 69,
   "metadata": {},
   "outputs": [
    {
     "name": "stdout",
     "output_type": "stream",
     "text": [
      "Parameter containing:\n",
      "tensor([[[0.3554, 0.3209]]], requires_grad=True)\n",
      "Parameter containing:\n",
      "tensor([0.5052], requires_grad=True)\n"
     ]
    }
   ],
   "source": [
    "for param in c.parameters():\n",
    "    print(param)"
   ]
  },
  {
   "cell_type": "code",
   "execution_count": 70,
   "metadata": {},
   "outputs": [
    {
     "name": "stdout",
     "output_type": "stream",
     "text": [
      "tensor(0.3554, grad_fn=<SelectBackward0>)\n",
      "tensor(0.3209, grad_fn=<SelectBackward0>)\n",
      "Parameter containing:\n",
      "tensor([0.5052], requires_grad=True)\n"
     ]
    }
   ],
   "source": [
    "w_list = []\n",
    "for param in c.parameters():\n",
    "    w_list.append(param)\n",
    "\n",
    "w = w_list[0]\n",
    "b = w_list[1]\n",
    "\n",
    "w1 = w[0][0][0]\n",
    "w2 = w[0][0][1]\n",
    "\n",
    "print(w1)\n",
    "print(w2)\n",
    "print(b)"
   ]
  },
  {
   "cell_type": "code",
   "execution_count": 71,
   "metadata": {},
   "outputs": [
    {
     "data": {
      "text/plain": [
       "tensor([2.8549], grad_fn=<AddBackward0>)"
      ]
     },
     "execution_count": 71,
     "metadata": {},
     "output_type": "execute_result"
    }
   ],
   "source": [
    "w1 * 3 + w2 * 4 + b"
   ]
  },
  {
   "cell_type": "code",
   "execution_count": 89,
   "metadata": {},
   "outputs": [],
   "source": [
    "class CovidPredictor(nn.Module):\n",
    "    def __init__(self, n_features, n_hidden, seq_len, n_layers):\n",
    "        super(CovidPredictor, self).__init__()\n",
    "        self.n_hidden = n_hidden\n",
    "        self.seq_len = seq_len\n",
    "        self.n_layers = n_layers\n",
    "        self.c1 = nn.Conv1d(in_channels=1, out_channels=1, kernel_size = 2, stride = 1) # 1D CNN 레이어 추가\n",
    "        self.lstm = nn.LSTM(\n",
    "            input_size=n_features,\n",
    "            hidden_size=n_hidden,\n",
    "            num_layers=n_layers\n",
    "        )\n",
    "        self.linear = nn.Linear(in_features=n_hidden, out_features=1)\n",
    "    def reset_hidden_state(self):\n",
    "        self.hidden = (\n",
    "            torch.zeros(self.n_layers, self.seq_len-1, self.n_hidden),\n",
    "            torch.zeros(self.n_layers, self.seq_len-1, self.n_hidden)\n",
    "        )\n",
    "    def forward(self, sequences):\n",
    "        sequences = self.c1(sequences.view(len(sequences), 1, -1))\n",
    "        lstm_out, self.hidden = self.lstm(\n",
    "            sequences.view(len(sequences), self.seq_len-1, -1),\n",
    "            self.hidden\n",
    "        )\n",
    "        last_time_step = lstm_out.view(self.seq_len-1, len(sequences), self.n_hidden)[-1]\n",
    "        y_pred = self.linear(last_time_step)\n",
    "        return y_pred"
   ]
  },
  {
   "cell_type": "code",
   "execution_count": 94,
   "metadata": {},
   "outputs": [],
   "source": [
    "def train_model(model, train_data, train_labels, val_data=None, val_labels=None, num_epochs=100, verbose=10, patience=10):\n",
    "    loss_fn = torch.nn.L1Loss()\n",
    "    optimiser = torch.optim.Adam(model.parameters(), lr=0.001)\n",
    "    train_hist = []\n",
    "    val_hist = []\n",
    "    \n",
    "    for t in range(num_epochs):\n",
    "        epoch_loss = 0\n",
    "        for idx, seq in enumerate(train_data):\n",
    "            model.reset_hidden_state()\n",
    "            # train loss\n",
    "            seq = seq.unsqueeze(0)  # (1, 5)로 변형\n",
    "            seq = seq.view(5, 1, 3)  # (5, 1, 3)으로 reshape (입력 데이터의 크기에 따라 조정 필요)\n",
    "            y_pred = model(seq)\n",
    "            loss = loss_fn(y_pred.view(-1), train_labels[idx])  # 예측 결과를 flatten\n",
    "            \n",
    "            # update weights\n",
    "            optimiser.zero_grad()\n",
    "            loss.backward()\n",
    "            optimiser.step()\n",
    "\n",
    "            epoch_loss += loss.item()\n",
    "\n",
    "        train_hist.append(epoch_loss / len(train_data))\n",
    "        \n",
    "        if val_data is not None:\n",
    "            with torch.no_grad():\n",
    "                val_loss = 0\n",
    "                for val_idx, val_seq in enumerate(val_data):\n",
    "                    model.reset_hidden_state()\n",
    "                    val_seq = val_seq.unsqueeze(0)  # (1, 5)로 변형\n",
    "                    val_seq = val_seq.view(5, 1, 3)  # (5, 1, 3)으로 reshape\n",
    "                    y_val_pred = model(val_seq)\n",
    "                    val_step_loss = loss_fn(y_val_pred.view(-1), val_labels[val_idx])  # 예측 결과를 flatten\n",
    "                    val_loss += val_step_loss\n",
    "        \n",
    "            val_hist.append(val_loss / len(val_data))\n",
    "\n",
    "            if t % verbose == 0:\n",
    "                print(f'Epoch {t} train loss: {epoch_loss / len(train_data)} val loss: {val_loss / len(val_data)}')\n",
    "                \n",
    "            if (t % patience == 0) & (t != 0):\n",
    "                if val_hist[t - patience] < val_hist[t]:\n",
    "                    print('\\n Early Stopping')\n",
    "                    break\n",
    "        elif t % verbose == 0:\n",
    "            print(f'Epoch {t} train loss: {epoch_loss / len(train_data)}')\n",
    "\n",
    "    return model, train_hist, val_hist\n"
   ]
  },
  {
   "cell_type": "code",
   "execution_count": 95,
   "metadata": {},
   "outputs": [],
   "source": [
    "model = CovidPredictor(\n",
    "    n_features=1,\n",
    "    n_hidden=4,\n",
    "    seq_len=seq_length,\n",
    "    n_layers=1\n",
    ")"
   ]
  },
  {
   "cell_type": "code",
   "execution_count": 96,
   "metadata": {},
   "outputs": [
    {
     "name": "stdout",
     "output_type": "stream",
     "text": [
      "CovidPredictor(\n",
      "  (c1): Conv1d(1, 1, kernel_size=(2,), stride=(1,))\n",
      "  (lstm): LSTM(1, 4)\n",
      "  (linear): Linear(in_features=4, out_features=1, bias=True)\n",
      ")\n"
     ]
    }
   ],
   "source": [
    "print(model)"
   ]
  },
  {
   "cell_type": "code",
   "execution_count": 117,
   "metadata": {},
   "outputs": [
    {
     "ename": "RuntimeError",
     "evalue": "shape '[5, 1, 3]' is invalid for input of size 3",
     "output_type": "error",
     "traceback": [
      "\u001b[1;31m---------------------------------------------------------------------------\u001b[0m",
      "\u001b[1;31mRuntimeError\u001b[0m                              Traceback (most recent call last)",
      "Cell \u001b[1;32mIn[117], line 1\u001b[0m\n\u001b[1;32m----> 1\u001b[0m model, train_hist, val_hist \u001b[38;5;241m=\u001b[39m \u001b[43mtrain_model\u001b[49m\u001b[43m(\u001b[49m\n\u001b[0;32m      2\u001b[0m \u001b[43m    \u001b[49m\u001b[43mmodel\u001b[49m\u001b[43m,\u001b[49m\n\u001b[0;32m      3\u001b[0m \u001b[43m    \u001b[49m\u001b[43mX_train\u001b[49m\u001b[43m,\u001b[49m\n\u001b[0;32m      4\u001b[0m \u001b[43m    \u001b[49m\u001b[43my_train\u001b[49m\u001b[43m,\u001b[49m\n\u001b[0;32m      5\u001b[0m \u001b[43m    \u001b[49m\u001b[43mX_val\u001b[49m\u001b[43m,\u001b[49m\n\u001b[0;32m      6\u001b[0m \u001b[43m    \u001b[49m\u001b[43my_val\u001b[49m\u001b[43m,\u001b[49m\n\u001b[0;32m      7\u001b[0m \u001b[43m    \u001b[49m\u001b[43mnum_epochs\u001b[49m\u001b[38;5;241;43m=\u001b[39;49m\u001b[38;5;241;43m100\u001b[39;49m\u001b[43m,\u001b[49m\n\u001b[0;32m      8\u001b[0m \u001b[43m    \u001b[49m\u001b[43mverbose\u001b[49m\u001b[38;5;241;43m=\u001b[39;49m\u001b[38;5;241;43m10\u001b[39;49m\u001b[43m,\u001b[49m\n\u001b[0;32m      9\u001b[0m \u001b[43m    \u001b[49m\u001b[43mpatience\u001b[49m\u001b[38;5;241;43m=\u001b[39;49m\u001b[38;5;241;43m50\u001b[39;49m\n\u001b[0;32m     10\u001b[0m \u001b[43m)\u001b[49m\n",
      "Cell \u001b[1;32mIn[94], line 13\u001b[0m, in \u001b[0;36mtrain_model\u001b[1;34m(model, train_data, train_labels, val_data, val_labels, num_epochs, verbose, patience)\u001b[0m\n\u001b[0;32m     11\u001b[0m \u001b[38;5;66;03m# train loss\u001b[39;00m\n\u001b[0;32m     12\u001b[0m seq \u001b[38;5;241m=\u001b[39m seq\u001b[38;5;241m.\u001b[39munsqueeze(\u001b[38;5;241m0\u001b[39m)  \u001b[38;5;66;03m# (1, 5)로 변형\u001b[39;00m\n\u001b[1;32m---> 13\u001b[0m seq \u001b[38;5;241m=\u001b[39m \u001b[43mseq\u001b[49m\u001b[38;5;241;43m.\u001b[39;49m\u001b[43mview\u001b[49m\u001b[43m(\u001b[49m\u001b[38;5;241;43m5\u001b[39;49m\u001b[43m,\u001b[49m\u001b[43m \u001b[49m\u001b[38;5;241;43m1\u001b[39;49m\u001b[43m,\u001b[49m\u001b[43m \u001b[49m\u001b[38;5;241;43m3\u001b[39;49m\u001b[43m)\u001b[49m  \u001b[38;5;66;03m# (5, 1, 3)으로 reshape (입력 데이터의 크기에 따라 조정 필요)\u001b[39;00m\n\u001b[0;32m     14\u001b[0m y_pred \u001b[38;5;241m=\u001b[39m model(seq)\n\u001b[0;32m     15\u001b[0m loss \u001b[38;5;241m=\u001b[39m loss_fn(y_pred\u001b[38;5;241m.\u001b[39mview(\u001b[38;5;241m-\u001b[39m\u001b[38;5;241m1\u001b[39m), train_labels[idx])  \u001b[38;5;66;03m# 예측 결과를 flatten\u001b[39;00m\n",
      "\u001b[1;31mRuntimeError\u001b[0m: shape '[5, 1, 3]' is invalid for input of size 3"
     ]
    }
   ],
   "source": [
    "model, train_hist, val_hist = train_model(\n",
    "    model,\n",
    "    X_train,\n",
    "    y_train,\n",
    "    X_val,\n",
    "    y_val,\n",
    "    num_epochs=100,\n",
    "    verbose=10,\n",
    "    patience=50\n",
    ")"
   ]
  },
  {
   "cell_type": "code",
   "execution_count": null,
   "metadata": {},
   "outputs": [],
   "source": []
  },
  {
   "cell_type": "code",
   "execution_count": null,
   "metadata": {},
   "outputs": [],
   "source": []
  }
 ],
 "metadata": {
  "kernelspec": {
   "display_name": "dl-dev",
   "language": "python",
   "name": "python3"
  },
  "language_info": {
   "codemirror_mode": {
    "name": "ipython",
    "version": 3
   },
   "file_extension": ".py",
   "mimetype": "text/x-python",
   "name": "python",
   "nbconvert_exporter": "python",
   "pygments_lexer": "ipython3",
   "version": "3.8.19"
  }
 },
 "nbformat": 4,
 "nbformat_minor": 2
}
