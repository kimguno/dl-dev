{
 "cells": [
  {
   "cell_type": "code",
   "execution_count": 2,
   "metadata": {},
   "outputs": [],
   "source": [
    "import mylib as ml\n",
    "import pandas as pd\n",
    "import numpy as np"
   ]
  },
  {
   "cell_type": "code",
   "execution_count": 5,
   "metadata": {},
   "outputs": [],
   "source": [
    "data = ml.fdata()"
   ]
  },
  {
   "cell_type": "code",
   "execution_count": 7,
   "metadata": {},
   "outputs": [],
   "source": [
    "data.drop(['Unnamed: 0'],axis=1,inplace=True)"
   ]
  },
  {
   "cell_type": "code",
   "execution_count": 12,
   "metadata": {},
   "outputs": [],
   "source": [
    "columns = ['code', '날짜', '시간', '종가', '거래량']\n",
    "\n",
    "# 데이터 프레임에서 원하는 컬럼만 남기기\n",
    "data = data[columns]"
   ]
  },
  {
   "cell_type": "code",
   "execution_count": 21,
   "metadata": {},
   "outputs": [
    {
     "data": {
      "text/plain": [
       "(41517026, 5)"
      ]
     },
     "execution_count": 21,
     "metadata": {},
     "output_type": "execute_result"
    }
   ],
   "source": [
    "data.shape"
   ]
  },
  {
   "cell_type": "code",
   "execution_count": 52,
   "metadata": {},
   "outputs": [],
   "source": [
    "data = pd.read_csv('./codeDateTimeCloseVolume.csv')"
   ]
  },
  {
   "cell_type": "code",
   "execution_count": 65,
   "metadata": {},
   "outputs": [
    {
     "data": {
      "text/plain": [
       "1299"
      ]
     },
     "execution_count": 65,
     "metadata": {},
     "output_type": "execute_result"
    }
   ],
   "source": [
    "unique_codes = data['code'].unique()\n",
    "len(unique_codes) "
   ]
  },
  {
   "cell_type": "code",
   "execution_count": 57,
   "metadata": {},
   "outputs": [],
   "source": [
    "# 거래량이 0인 로우 수 계산\n",
    "zero_volume_counts = data[data['거래량'] == 0].groupby('code').size()\n",
    "\n",
    "# 0인 로우가 5개 이상인 code 목록\n",
    "codes_to_remove = zero_volume_counts[zero_volume_counts >= 1000].index.tolist()\n",
    "len(codes_to_remove)\n",
    "data_del = data[~data['code'].isin(codes_to_remove)]"
   ]
  },
  {
   "cell_type": "code",
   "execution_count": 62,
   "metadata": {},
   "outputs": [
    {
     "data": {
      "text/plain": [
       "(1290,)"
      ]
     },
     "execution_count": 62,
     "metadata": {},
     "output_type": "execute_result"
    }
   ],
   "source": [
    "zero_volume_counts.shape"
   ]
  },
  {
   "cell_type": "code",
   "execution_count": 59,
   "metadata": {},
   "outputs": [
    {
     "data": {
      "text/plain": [
       "79581"
      ]
     },
     "execution_count": 59,
     "metadata": {},
     "output_type": "execute_result"
    }
   ],
   "source": [
    "zero_volume_count = (data_del['거래량'] == 0).sum()\n",
    "zero_volume_count"
   ]
  },
  {
   "cell_type": "code",
   "execution_count": 66,
   "metadata": {},
   "outputs": [
    {
     "data": {
      "text/plain": [
       "(41517026, 6)"
      ]
     },
     "execution_count": 66,
     "metadata": {},
     "output_type": "execute_result"
    }
   ],
   "source": [
    "data.shape"
   ]
  },
  {
   "cell_type": "code",
   "execution_count": 67,
   "metadata": {},
   "outputs": [],
   "source": [
    "data_re=data[20000000:]"
   ]
  },
  {
   "cell_type": "code",
   "execution_count": 70,
   "metadata": {},
   "outputs": [
    {
     "data": {
      "text/html": [
       "<div>\n",
       "<style scoped>\n",
       "    .dataframe tbody tr th:only-of-type {\n",
       "        vertical-align: middle;\n",
       "    }\n",
       "\n",
       "    .dataframe tbody tr th {\n",
       "        vertical-align: top;\n",
       "    }\n",
       "\n",
       "    .dataframe thead th {\n",
       "        text-align: right;\n",
       "    }\n",
       "</style>\n",
       "<table border=\"1\" class=\"dataframe\">\n",
       "  <thead>\n",
       "    <tr style=\"text-align: right;\">\n",
       "      <th></th>\n",
       "      <th>Unnamed: 0</th>\n",
       "      <th>code</th>\n",
       "      <th>날짜</th>\n",
       "      <th>시간</th>\n",
       "      <th>종가</th>\n",
       "      <th>거래량</th>\n",
       "    </tr>\n",
       "  </thead>\n",
       "  <tbody>\n",
       "    <tr>\n",
       "      <th>20000000</th>\n",
       "      <td>20000000</td>\n",
       "      <td>334970</td>\n",
       "      <td>20240726</td>\n",
       "      <td>1226</td>\n",
       "      <td>5570</td>\n",
       "      <td>482</td>\n",
       "    </tr>\n",
       "    <tr>\n",
       "      <th>20000001</th>\n",
       "      <td>20000001</td>\n",
       "      <td>334970</td>\n",
       "      <td>20240726</td>\n",
       "      <td>1227</td>\n",
       "      <td>5570</td>\n",
       "      <td>439</td>\n",
       "    </tr>\n",
       "    <tr>\n",
       "      <th>20000002</th>\n",
       "      <td>20000002</td>\n",
       "      <td>334970</td>\n",
       "      <td>20240726</td>\n",
       "      <td>1228</td>\n",
       "      <td>5580</td>\n",
       "      <td>1036</td>\n",
       "    </tr>\n",
       "    <tr>\n",
       "      <th>20000003</th>\n",
       "      <td>20000003</td>\n",
       "      <td>334970</td>\n",
       "      <td>20240726</td>\n",
       "      <td>1229</td>\n",
       "      <td>5600</td>\n",
       "      <td>509</td>\n",
       "    </tr>\n",
       "    <tr>\n",
       "      <th>20000004</th>\n",
       "      <td>20000004</td>\n",
       "      <td>334970</td>\n",
       "      <td>20240726</td>\n",
       "      <td>1230</td>\n",
       "      <td>5570</td>\n",
       "      <td>124</td>\n",
       "    </tr>\n",
       "    <tr>\n",
       "      <th>...</th>\n",
       "      <td>...</td>\n",
       "      <td>...</td>\n",
       "      <td>...</td>\n",
       "      <td>...</td>\n",
       "      <td>...</td>\n",
       "      <td>...</td>\n",
       "    </tr>\n",
       "    <tr>\n",
       "      <th>41517021</th>\n",
       "      <td>41517021</td>\n",
       "      <td>58970</td>\n",
       "      <td>20240812</td>\n",
       "      <td>1516</td>\n",
       "      <td>42900</td>\n",
       "      <td>84</td>\n",
       "    </tr>\n",
       "    <tr>\n",
       "      <th>41517022</th>\n",
       "      <td>41517022</td>\n",
       "      <td>58970</td>\n",
       "      <td>20240812</td>\n",
       "      <td>1517</td>\n",
       "      <td>42900</td>\n",
       "      <td>221</td>\n",
       "    </tr>\n",
       "    <tr>\n",
       "      <th>41517023</th>\n",
       "      <td>41517023</td>\n",
       "      <td>58970</td>\n",
       "      <td>20240812</td>\n",
       "      <td>1518</td>\n",
       "      <td>42850</td>\n",
       "      <td>256</td>\n",
       "    </tr>\n",
       "    <tr>\n",
       "      <th>41517024</th>\n",
       "      <td>41517024</td>\n",
       "      <td>58970</td>\n",
       "      <td>20240812</td>\n",
       "      <td>1519</td>\n",
       "      <td>42900</td>\n",
       "      <td>298</td>\n",
       "    </tr>\n",
       "    <tr>\n",
       "      <th>41517025</th>\n",
       "      <td>41517025</td>\n",
       "      <td>58970</td>\n",
       "      <td>20240812</td>\n",
       "      <td>1520</td>\n",
       "      <td>42900</td>\n",
       "      <td>299</td>\n",
       "    </tr>\n",
       "  </tbody>\n",
       "</table>\n",
       "<p>21517026 rows × 6 columns</p>\n",
       "</div>"
      ],
      "text/plain": [
       "          Unnamed: 0    code        날짜    시간     종가   거래량\n",
       "20000000    20000000  334970  20240726  1226   5570   482\n",
       "20000001    20000001  334970  20240726  1227   5570   439\n",
       "20000002    20000002  334970  20240726  1228   5580  1036\n",
       "20000003    20000003  334970  20240726  1229   5600   509\n",
       "20000004    20000004  334970  20240726  1230   5570   124\n",
       "...              ...     ...       ...   ...    ...   ...\n",
       "41517021    41517021   58970  20240812  1516  42900    84\n",
       "41517022    41517022   58970  20240812  1517  42900   221\n",
       "41517023    41517023   58970  20240812  1518  42850   256\n",
       "41517024    41517024   58970  20240812  1519  42900   298\n",
       "41517025    41517025   58970  20240812  1520  42900   299\n",
       "\n",
       "[21517026 rows x 6 columns]"
      ]
     },
     "execution_count": 70,
     "metadata": {},
     "output_type": "execute_result"
    }
   ],
   "source": [
    "data_re"
   ]
  },
  {
   "cell_type": "code",
   "execution_count": null,
   "metadata": {},
   "outputs": [],
   "source": []
  },
  {
   "cell_type": "code",
   "execution_count": null,
   "metadata": {},
   "outputs": [],
   "source": [
    "import numpy as np\n",
    "import pandas as pd\n",
    "import tensorflow as tf\n",
    "from tensorflow.keras import layers, models\n",
    "import mylib as ml\n",
    "\n",
    "# 데이터 로딩 예시 (데이터프레임 형식)\n",
    "df = ml.dataRenameVol(data_re)\n",
    "\n",
    "# 시퀀스 길이 및 특성 수 설정\n",
    "time_steps = 5  # 사용할 시퀀스 길이\n",
    "features = 2     # 종가와 거래량\n",
    "\n",
    "# 데이터 준비 함수\n",
    "def prepare_data(df, time_steps):\n",
    "    X = []\n",
    "    y = []\n",
    "    \n",
    "    for i in range(len(df) - time_steps):\n",
    "        X.append(df.iloc[i:i + time_steps][['close', 'volume']].values)\n",
    "        # 다음 종가가 현재 종가보다 높으면 2, 같으면 1, 낮으면 0\n",
    "        if df.iloc[i + time_steps]['close'] > df.iloc[i + time_steps - 1]['close']:\n",
    "            y.append(2)\n",
    "        elif df.iloc[i + time_steps]['close'] == df.iloc[i + time_steps - 1]['close']:\n",
    "            y.append(1)\n",
    "        else:\n",
    "            y.append(0)\n",
    "\n",
    "    return np.array(X), np.array(y)\n",
    "\n",
    "# 푸리에 변환을 적용하는 함수\n",
    "def apply_fourier_transform(x):\n",
    "    # 입력 텐서의 크기: (batch_size, time_steps, features)\n",
    "    # 각 시퀀스에 대해 푸리에 변환 적용\n",
    "    fft_result = tf.signal.fft(tf.cast(tf.transpose(x, perm=[0, 2, 1]), tf.complex64))\n",
    "    return tf.abs(fft_result)\n",
    "\n",
    "# 트랜스포머 모델 정의\n",
    "class TransformerBlock(layers.Layer):\n",
    "    def __init__(self, embed_size, heads, dropout=0):\n",
    "        super(TransformerBlock, self).__init__()\n",
    "        self.attention = layers.MultiHeadAttention(num_heads=heads, key_dim=embed_size)\n",
    "        self.norm1 = layers.LayerNormalization(epsilon=1e-6)\n",
    "        self.norm2 = layers.LayerNormalization(epsilon=1e-6)\n",
    "        self.feed_forward = models.Sequential([\n",
    "            layers.Dense(2048, activation='relu'),\n",
    "            layers.Dense(embed_size)\n",
    "        ])\n",
    "        self.dropout1 = layers.Dropout(dropout)\n",
    "        self.dropout2 = layers.Dropout(dropout)\n",
    "\n",
    "    def call(self, x):\n",
    "        attention = self.attention(x, x)\n",
    "        x = self.norm1(x + self.dropout1(attention))\n",
    "        feed_forward = self.feed_forward(x)\n",
    "        return self.norm2(x + self.dropout2(feed_forward))\n",
    "\n",
    "# 결합 모델 생성\n",
    "def create_combined_model(input_shape):\n",
    "    transformer_input = layers.Input(shape=(time_steps, features))\n",
    "\n",
    "    # 푸리에 변환 적용\n",
    "    fourier_output = layers.Lambda(apply_fourier_transform)(transformer_input)\n",
    "    fourier_output = layers.Flatten()(fourier_output)\n",
    "\n",
    "    # 트랜스포머에 연결\n",
    "    transformer_block = TransformerBlock(embed_size=features, heads=4)(transformer_input)\n",
    "    transformer_output = layers.GlobalAveragePooling1D()(transformer_block)\n",
    "\n",
    "    # 두 모델의 출력 결합\n",
    "    combined = layers.Concatenate()([fourier_output, transformer_output])\n",
    "    combined_output = layers.Dense(3, activation='softmax')(combined)  # 3개의 클래스\n",
    "\n",
    "    return models.Model(inputs=transformer_input, outputs=combined_output)\n",
    "\n",
    "# 모델 생성\n",
    "input_shape_cnn = (time_steps, features)\n",
    "combined_model = create_combined_model(input_shape_cnn)\n",
    "\n",
    "# 모델 컴파일\n",
    "combined_model.compile(optimizer='adam', loss='sparse_categorical_crossentropy', metrics=['accuracy'])\n",
    "\n",
    "# 모델 요약\n",
    "combined_model.summary()\n",
    "\n",
    "# 데이터 준비\n",
    "X, y = prepare_data(df, time_steps)\n",
    "\n",
    "from keras.callbacks import ReduceLROnPlateau\n",
    "\n",
    "reduce_lr = ReduceLROnPlateau(monitor='accuracy', factor=0.5, patience=3, min_lr=1e-6)\n",
    "combined_model.fit(X, y, epochs=100, batch_size=32, validation_split=0.2, callbacks=[reduce_lr])\n"
   ]
  }
 ],
 "metadata": {
  "kernelspec": {
   "display_name": "dl-dev",
   "language": "python",
   "name": "python3"
  },
  "language_info": {
   "codemirror_mode": {
    "name": "ipython",
    "version": 3
   },
   "file_extension": ".py",
   "mimetype": "text/x-python",
   "name": "python",
   "nbconvert_exporter": "python",
   "pygments_lexer": "ipython3",
   "version": "3.8.19"
  }
 },
 "nbformat": 4,
 "nbformat_minor": 2
}
