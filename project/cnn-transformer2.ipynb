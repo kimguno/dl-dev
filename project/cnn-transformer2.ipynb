{
 "cells": [
  {
   "cell_type": "code",
   "execution_count": 6,
   "metadata": {},
   "outputs": [
    {
     "ename": "AttributeError",
     "evalue": "module 'mylib' has no attribute 'dataLoad'",
     "output_type": "error",
     "traceback": [
      "\u001b[1;31m---------------------------------------------------------------------------\u001b[0m",
      "\u001b[1;31mAttributeError\u001b[0m                            Traceback (most recent call last)",
      "Cell \u001b[1;32mIn[6], line 9\u001b[0m\n\u001b[0;32m      6\u001b[0m \u001b[38;5;28;01mimport\u001b[39;00m \u001b[38;5;21;01mmylib\u001b[39;00m \u001b[38;5;28;01mas\u001b[39;00m \u001b[38;5;21;01mml\u001b[39;00m\n\u001b[0;32m      8\u001b[0m \u001b[38;5;66;03m# 데이터 로드 (예: CSV 파일)\u001b[39;00m\n\u001b[1;32m----> 9\u001b[0m data \u001b[38;5;241m=\u001b[39m \u001b[43mml\u001b[49m\u001b[38;5;241;43m.\u001b[39;49m\u001b[43mdataLoad\u001b[49m(\u001b[38;5;241m660\u001b[39m)\n\u001b[0;32m     10\u001b[0m data\n",
      "\u001b[1;31mAttributeError\u001b[0m: module 'mylib' has no attribute 'dataLoad'"
     ]
    }
   ],
   "source": [
    "import numpy as np\n",
    "import pandas as pd\n",
    "import tensorflow as tf\n",
    "from sklearn.model_selection import train_test_split\n",
    "from sklearn.preprocessing import StandardScaler\n",
    "import mylib as ml\n",
    "\n",
    "# 데이터 로드 (예: CSV 파일)\n",
    "data = ml.dataLoad(660)\n",
    "data"
   ]
  },
  {
   "cell_type": "code",
   "execution_count": null,
   "metadata": {},
   "outputs": [],
   "source": [
    "import numpy as np\n",
    "import pandas as pd\n",
    "import tensorflow as tf\n",
    "from sklearn.model_selection import train_test_split\n",
    "from sklearn.preprocessing import StandardScaler\n",
    "import mylib as ml\n",
    "\n",
    "# 데이터 로드 (예: CSV 파일)\n",
    "data = ml.dataLoad()\n",
    "\n",
    "# 종가, 매도량, 매수량으로부터 입력과 타겟 생성\n",
    "X = data[['매도량', '매수량']].values\n",
    "y = (data['종가'].shift(-1) > data['종가']).astype(int).values[:-1]  # 다음 날 종가가 오르면 1, 내리면 0\n",
    "\n",
    "# 마지막 행 제거\n",
    "X = X[:-1]\n",
    "\n",
    "# 데이터 정규화\n",
    "scaler = StandardScaler()\n",
    "X = scaler.fit_transform(X)\n",
    "\n",
    "# 학습 및 테스트 데이터 분할\n",
    "X_train, X_test, y_train, y_test = train_test_split(X, y, test_size=0.2, random_state=42)\n",
    "\n",
    "# CNN 및 트랜스포머 모델 정의\n",
    "def create_combined_model(input_shape):\n",
    "    inputs = tf.keras.Input(shape=input_shape)\n",
    "    \n",
    "    # CNN 부분\n",
    "    x = tf.keras.layers.Conv1D(64, kernel_size=2, activation='relu')(inputs)\n",
    "    x = tf.keras.layers.MaxPooling1D(pool_size=2)(x)\n",
    "    x = tf.keras.layers.Conv1D(32, kernel_size=2, activation='relu')(x)\n",
    "    x = tf.keras.layers.MaxPooling1D(pool_size=2)(x)\n",
    "    \n",
    "    # Flatten 후 트랜스포머 입력으로 변환\n",
    "    x = tf.keras.layers.Flatten()(x)\n",
    "    x = tf.keras.layers.Dense(64)(x)\n",
    "    x = tf.keras.layers.LayerNormalization()(x)\n",
    "    x = tf.keras.layers.MultiHeadAttention(num_heads=2, key_dim=64)(tf.expand_dims(x, axis=1), tf.expand_dims(x, axis=1))\n",
    "    x = tf.keras.layers.GlobalAveragePooling1D()(x)\n",
    "    \n",
    "    # 출력층\n",
    "    outputs = tf.keras.layers.Dense(1, activation='sigmoid')(x)\n",
    "    \n",
    "    model = tf.keras.Model(inputs, outputs)\n",
    "    model.compile(optimizer='adam', loss='binary_crossentropy', metrics=['accuracy'])\n",
    "    return model\n",
    "\n",
    "# 모델 생성\n",
    "X_train_cnn = X_train.reshape((X_train.shape[0], X_train.shape[1], 1))  # 3D 텐서로 변환\n",
    "X_test_cnn = X_test.reshape((X_test.shape[0], X_test.shape[1], 1))\n",
    "\n",
    "combined_model = create_combined_model((X_train_cnn.shape[1], 1))\n",
    "\n",
    "# 모델 학습\n",
    "combined_model.fit(X_train_cnn, y_train, epochs=10, batch_size=32, validation_split=0.2)\n",
    "\n",
    "# 모델 평가\n",
    "loss, accuracy = combined_model.evaluate(X_test_cnn, y_test)\n",
    "\n",
    "print(f\"결합 모델 정확도: {accuracy:.4f}, 손실: {loss:.4f}\")\n"
   ]
  }
 ],
 "metadata": {
  "kernelspec": {
   "display_name": "dl-dev",
   "language": "python",
   "name": "python3"
  },
  "language_info": {
   "codemirror_mode": {
    "name": "ipython",
    "version": 3
   },
   "file_extension": ".py",
   "mimetype": "text/x-python",
   "name": "python",
   "nbconvert_exporter": "python",
   "pygments_lexer": "ipython3",
   "version": "3.8.19"
  }
 },
 "nbformat": 4,
 "nbformat_minor": 2
}
